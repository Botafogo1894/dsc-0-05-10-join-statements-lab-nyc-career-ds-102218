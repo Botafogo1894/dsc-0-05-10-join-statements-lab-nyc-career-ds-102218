{
 "cells": [
  {
   "cell_type": "markdown",
   "metadata": {},
   "source": [
    "# Join Statements"
   ]
  },
  {
   "cell_type": "markdown",
   "metadata": {},
   "source": [
    "## Introduction"
   ]
  },
  {
   "cell_type": "markdown",
   "metadata": {},
   "source": [
    "In this lab, you'll practice your knowledge on Join statements."
   ]
  },
  {
   "cell_type": "markdown",
   "metadata": {},
   "source": [
    "## Objectives"
   ]
  },
  {
   "cell_type": "markdown",
   "metadata": {},
   "source": [
    "You will be able to:\n",
    "- Write queries that make use of various types of Joins\n",
    "- Join tables using foreign keys"
   ]
  },
  {
   "cell_type": "markdown",
   "metadata": {},
   "source": [
    "## CRM Schema\n",
    "\n",
    "In almost all cases, rather then just working with a single table we will typically need data from multiple tables. \n",
    "Doing this requires the use of **joins ** using shared columns from the two tables. \n",
    "\n",
    "In this lab, we'll use the same Customer Relationship Management (CRM) database we used in our lecture before!\n",
    "<img src='Database-Schema.png' width=550>"
   ]
  },
  {
   "cell_type": "markdown",
   "metadata": {},
   "source": [
    "## Connecting to the Database\n",
    "Import the necessary packages and connect to the database **data.sqlite**."
   ]
  },
  {
   "cell_type": "code",
   "execution_count": 3,
   "metadata": {},
   "outputs": [],
   "source": [
    "import sqlite3\n",
    "conn = sqlite3.connect('data.sqlite')\n",
    "crs = conn.cursor()"
   ]
  },
  {
   "cell_type": "markdown",
   "metadata": {},
   "source": [
    "## Display the names of all the employees in Boston."
   ]
  },
  {
   "cell_type": "code",
   "execution_count": 4,
   "metadata": {},
   "outputs": [
    {
     "data": {
      "text/plain": [
       "[('Firrelli', 'Julie'), ('Patterson', 'Steve')]"
      ]
     },
     "execution_count": 4,
     "metadata": {},
     "output_type": "execute_result"
    }
   ],
   "source": [
    "def result(command):\n",
    "    return crs.execute(command).fetchall()\n",
    "# result(\"SELECT * FROM offices;\")\n",
    "result(\"SELECT lastName, firstName FROM employees JOIN offices USING(officeCode) WHERE officeCode = '2';\")"
   ]
  },
  {
   "cell_type": "markdown",
   "metadata": {},
   "source": [
    "## Do any offices have no employees?"
   ]
  },
  {
   "cell_type": "code",
   "execution_count": 8,
   "metadata": {},
   "outputs": [
    {
     "data": {
      "text/plain": [
       "[]"
      ]
     },
     "execution_count": 8,
     "metadata": {},
     "output_type": "execute_result"
    }
   ],
   "source": [
    "result(\"SELECT * FROM employees LEFT JOIN offices USING(officeCode) WHERE officeCode IS NULL;\")"
   ]
  },
  {
   "cell_type": "markdown",
   "metadata": {},
   "source": [
    "## Write 3 Questions of your own and answer them"
   ]
  },
  {
   "cell_type": "code",
   "execution_count": 1,
   "metadata": {},
   "outputs": [
    {
     "ename": "NameError",
     "evalue": "name 'result' is not defined",
     "output_type": "error",
     "traceback": [
      "\u001b[0;31m\u001b[0m",
      "\u001b[0;31mNameError\u001b[0mTraceback (most recent call last)",
      "\u001b[0;32m<ipython-input-1-332fca3e64ad>\u001b[0m in \u001b[0;36m<module>\u001b[0;34m()\u001b[0m\n\u001b[1;32m      1\u001b[0m \u001b[0;32mimport\u001b[0m \u001b[0mpandas\u001b[0m \u001b[0;32mas\u001b[0m \u001b[0mpd\u001b[0m\u001b[0;34m\u001b[0m\u001b[0m\n\u001b[1;32m      2\u001b[0m \u001b[0;34m\u001b[0m\u001b[0m\n\u001b[0;32m----> 3\u001b[0;31m \u001b[0mtable\u001b[0m \u001b[0;34m=\u001b[0m \u001b[0mresult\u001b[0m\u001b[0;34m(\u001b[0m\u001b[0;34m\"SELECT * FROM products LEFT JOIN orderdetails USING(productCode) WHERE orderdetails.orderLineNumber = 2;\"\u001b[0m\u001b[0;34m)\u001b[0m\u001b[0;34m\u001b[0m\u001b[0m\n\u001b[0m\u001b[1;32m      4\u001b[0m \u001b[0;34m\u001b[0m\u001b[0m\n\u001b[1;32m      5\u001b[0m \u001b[0;31m# df = pd.DataFrame(table) #Take results and create dataframe\u001b[0m\u001b[0;34m\u001b[0m\u001b[0;34m\u001b[0m\u001b[0m\n",
      "\u001b[0;31mNameError\u001b[0m: name 'result' is not defined"
     ]
    }
   ],
   "source": [
    "import pandas as pd\n",
    "\n",
    "table = result(\"SELECT * FROM products LEFT JOIN orderdetails USING(productCode) WHERE orderdetails.orderLineNumber = 2;\")\n",
    "\n",
    "# df = pd.DataFrame(table) #Take results and create dataframe\n",
    "# df.columns = [i[0] for i in crs.description]\n",
    "# df.head()\n",
    "\n",
    "crs.description"
   ]
  },
  {
   "cell_type": "code",
   "execution_count": 7,
   "metadata": {},
   "outputs": [
    {
     "data": {
      "text/plain": [
       "[('1002',\n",
       "  'Murphy',\n",
       "  'Diane',\n",
       "  'x5800',\n",
       "  'dmurphy@classicmodelcars.com',\n",
       "  '1',\n",
       "  '',\n",
       "  'President'),\n",
       " ('1056',\n",
       "  'Patterson',\n",
       "  'Mary',\n",
       "  'x4611',\n",
       "  'mpatterso@classicmodelcars.com',\n",
       "  '1',\n",
       "  '1002',\n",
       "  'VP Sales'),\n",
       " ('1076',\n",
       "  'Firrelli',\n",
       "  'Jeff',\n",
       "  'x9273',\n",
       "  'jfirrelli@classicmodelcars.com',\n",
       "  '1',\n",
       "  '1002',\n",
       "  'VP Marketing'),\n",
       " ('1088',\n",
       "  'Patterson',\n",
       "  'William',\n",
       "  'x4871',\n",
       "  'wpatterson@classicmodelcars.com',\n",
       "  '6',\n",
       "  '1056',\n",
       "  'Sales Manager (APAC)'),\n",
       " ('1102',\n",
       "  'Bondur',\n",
       "  'Gerard',\n",
       "  'x5408',\n",
       "  'gbondur@classicmodelcars.com',\n",
       "  '4',\n",
       "  '1056',\n",
       "  'Sale Manager (EMEA)'),\n",
       " ('1143',\n",
       "  'Bow',\n",
       "  'Anthony',\n",
       "  'x5428',\n",
       "  'abow@classicmodelcars.com',\n",
       "  '1',\n",
       "  '1056',\n",
       "  'Sales Manager (NA)'),\n",
       " ('1165',\n",
       "  'Jennings',\n",
       "  'Leslie',\n",
       "  'x3291',\n",
       "  'ljennings@classicmodelcars.com',\n",
       "  '1',\n",
       "  '1143',\n",
       "  'Sales Rep'),\n",
       " ('1166',\n",
       "  'Thompson',\n",
       "  'Leslie',\n",
       "  'x4065',\n",
       "  'lthompson@classicmodelcars.com',\n",
       "  '1',\n",
       "  '1143',\n",
       "  'Sales Rep'),\n",
       " ('1188',\n",
       "  'Firrelli',\n",
       "  'Julie',\n",
       "  'x2173',\n",
       "  'jfirrelli@classicmodelcars.com',\n",
       "  '2',\n",
       "  '1143',\n",
       "  'Sales Rep'),\n",
       " ('1216',\n",
       "  'Patterson',\n",
       "  'Steve',\n",
       "  'x4334',\n",
       "  'spatterson@classicmodelcars.com',\n",
       "  '2',\n",
       "  '1143',\n",
       "  'Sales Rep'),\n",
       " ('1286',\n",
       "  'Tseng',\n",
       "  'Foon Yue',\n",
       "  'x2248',\n",
       "  'ftseng@classicmodelcars.com',\n",
       "  '3',\n",
       "  '1143',\n",
       "  'Sales Rep'),\n",
       " ('1323',\n",
       "  'Vanauf',\n",
       "  'George',\n",
       "  'x4102',\n",
       "  'gvanauf@classicmodelcars.com',\n",
       "  '3',\n",
       "  '1143',\n",
       "  'Sales Rep'),\n",
       " ('1337',\n",
       "  'Bondur',\n",
       "  'Loui',\n",
       "  'x6493',\n",
       "  'lbondur@classicmodelcars.com',\n",
       "  '4',\n",
       "  '1102',\n",
       "  'Sales Rep'),\n",
       " ('1370',\n",
       "  'Hernandez',\n",
       "  'Gerard',\n",
       "  'x2028',\n",
       "  'ghernande@classicmodelcars.com',\n",
       "  '4',\n",
       "  '1102',\n",
       "  'Sales Rep'),\n",
       " ('1401',\n",
       "  'Castillo',\n",
       "  'Pamela',\n",
       "  'x2759',\n",
       "  'pcastillo@classicmodelcars.com',\n",
       "  '4',\n",
       "  '1102',\n",
       "  'Sales Rep'),\n",
       " ('1501',\n",
       "  'Bott',\n",
       "  'Larry',\n",
       "  'x2311',\n",
       "  'lbott@classicmodelcars.com',\n",
       "  '7',\n",
       "  '1102',\n",
       "  'Sales Rep'),\n",
       " ('1504',\n",
       "  'Jones',\n",
       "  'Barry',\n",
       "  'x102',\n",
       "  'bjones@classicmodelcars.com',\n",
       "  '7',\n",
       "  '1102',\n",
       "  'Sales Rep'),\n",
       " ('1611',\n",
       "  'Fixter',\n",
       "  'Andy',\n",
       "  'x101',\n",
       "  'afixter@classicmodelcars.com',\n",
       "  '6',\n",
       "  '1088',\n",
       "  'Sales Rep'),\n",
       " ('1612',\n",
       "  'Marsh',\n",
       "  'Peter',\n",
       "  'x102',\n",
       "  'pmarsh@classicmodelcars.com',\n",
       "  '6',\n",
       "  '1088',\n",
       "  'Sales Rep'),\n",
       " ('1619',\n",
       "  'King',\n",
       "  'Tom',\n",
       "  'x103',\n",
       "  'tking@classicmodelcars.com',\n",
       "  '6',\n",
       "  '1088',\n",
       "  'Sales Rep'),\n",
       " ('1621',\n",
       "  'Nishi',\n",
       "  'Mami',\n",
       "  'x101',\n",
       "  'mnishi@classicmodelcars.com',\n",
       "  '5',\n",
       "  '1056',\n",
       "  'Sales Rep'),\n",
       " ('1625',\n",
       "  'Kato',\n",
       "  'Yoshimi',\n",
       "  'x102',\n",
       "  'ykato@classicmodelcars.com',\n",
       "  '5',\n",
       "  '1621',\n",
       "  'Sales Rep'),\n",
       " ('1702',\n",
       "  'Gerard',\n",
       "  'Martin',\n",
       "  'x2312',\n",
       "  'mgerard@classicmodelcars.com',\n",
       "  '4',\n",
       "  '1102',\n",
       "  'Sales Rep')]"
      ]
     },
     "execution_count": 7,
     "metadata": {},
     "output_type": "execute_result"
    }
   ],
   "source": [
    "# def select_by_officeCode(table, code):\n",
    "#     command = \"SELECT * FROM {} WHERE officeCode = {};\".format(table, code)\n",
    "#     print(command)\n",
    "#     return result(command)\n",
    "result(\"SELECT * FROM employees;\")\n",
    "# select_by_officeCode(\"employees\", 1)"
   ]
  },
  {
   "cell_type": "code",
   "execution_count": 20,
   "metadata": {},
   "outputs": [
    {
     "data": {
      "text/plain": [
       "[('Euro+ Shopping Channel', 715738.9800000001),\n",
       " ('Mini Gifts Distributors Ltd.', 584188.24),\n",
       " ('Australian Collectors, Co.', 180585.07),\n",
       " ('Muscle Machine Inc', 177913.94999999998),\n",
       " ('Dragon Souveniers, Ltd.', 156251.03),\n",
       " ('Down Under Souveniers, Inc', 154622.08000000002),\n",
       " ('AV Stores, Co.', 148410.09),\n",
       " (\"Anna's Decorations, Ltd\", 137034.22),\n",
       " ('Corporate Gift Ideas Co.', 132340.78),\n",
       " ('Saveley & Henriot, Co.', 130305.35)]"
      ]
     },
     "execution_count": 20,
     "metadata": {},
     "output_type": "execute_result"
    }
   ],
   "source": [
    "#find top 10 customers and their total spent\n",
    "result(\"SELECT customerName, SUM(amount) AS total_spent FROM customers JOIN payments USING(customerNumber) GROUP BY customerName ORDER BY total_spent DESC LIMIT 10;\")"
   ]
  },
  {
   "cell_type": "code",
   "execution_count": 26,
   "metadata": {},
   "outputs": [
    {
     "data": {
      "text/plain": [
       "[('Gifts4AllAges.com', 'On Hold'),\n",
       " ('Tekni Collectables Inc.', 'On Hold'),\n",
       " ('The Sharp Gifts Warehouse', 'On Hold'),\n",
       " ('Volvo Model Replicas, Co', 'On Hold')]"
      ]
     },
     "execution_count": 26,
     "metadata": {},
     "output_type": "execute_result"
    }
   ],
   "source": [
    "#find list of customers who have orders 'On Hold\"\n",
    "result(\"SELECT customerName, status FROM customers JOIN orders USING(customerNumber) WHERE status = 'On Hold' GROUP BY customerName;\")"
   ]
  },
  {
   "cell_type": "markdown",
   "metadata": {},
   "source": [
    "## Level Up: Display the names of each product each employee has sold."
   ]
  },
  {
   "cell_type": "code",
   "execution_count": 37,
   "metadata": {},
   "outputs": [
    {
     "data": {
      "text/plain": [
       "[('1165', '1165', 'Leslie', 'Jennings', '1954 Greyhound Scenicruiser'),\n",
       " ('1166', '1166', 'Leslie', 'Thompson', '1936 Chrysler Airflow'),\n",
       " ('1188', '1188', 'Julie', 'Firrelli', '1939 Chevrolet Deluxe Coupe'),\n",
       " ('1216', '1216', 'Steve', 'Patterson', 'ATA: B757-300'),\n",
       " ('1286', '1286', 'Foon Yue', 'Tseng', '2002 Yamaha YZR M1'),\n",
       " ('1323', '1323', 'George', 'Vanauf', '2002 Yamaha YZR M1'),\n",
       " ('1337', '1337', 'Loui', 'Bondur', '1960 BSA Gold Star DBD34'),\n",
       " ('1370', '1370', 'Gerard', 'Hernandez', '1982 Camaro Z28'),\n",
       " ('1401', '1401', 'Pamela', 'Castillo', '1992 Ferrari 360 Spider red'),\n",
       " ('1501', '1501', 'Larry', 'Bott', '1952 Citroen-15CV'),\n",
       " ('1504', '1504', 'Barry', 'Jones', '1960 BSA Gold Star DBD34'),\n",
       " ('1611', '1611', 'Andy', 'Fixter', 'Boeing X-32A JSF'),\n",
       " ('1612', '1612', 'Peter', 'Marsh', '1997 BMW F650 ST'),\n",
       " ('1621', '1621', 'Mami', 'Nishi', '1936 Mercedes Benz 500k Roadster'),\n",
       " ('1702', '1702', 'Martin', 'Gerard', '1936 Mercedes Benz 500k Roadster')]"
      ]
     },
     "execution_count": 37,
     "metadata": {},
     "output_type": "execute_result"
    }
   ],
   "source": [
    "result(\"SELECT employeeNumber, firstName, lastName, productName FROM employees JOIN customers ON employees.employeeNumber = customers.salesRepEmployeeNumber JOIN orders USING(customerNumber) JOIN orderdetails USING(orderNumber) JOIN products USING(productCode) GROUP BY employeeNumber;\")"
   ]
  },
  {
   "cell_type": "code",
   "execution_count": null,
   "metadata": {},
   "outputs": [],
   "source": []
  },
  {
   "cell_type": "markdown",
   "metadata": {},
   "source": [
    "## Level Up: Display the Number of Products each Employee Has sold"
   ]
  },
  {
   "cell_type": "code",
   "execution_count": 40,
   "metadata": {},
   "outputs": [
    {
     "data": {
      "text/plain": [
       "[('1370', 'Gerard', 'Hernandez', '1982 Camaro Z28', 396),\n",
       " ('1165', 'Leslie', 'Jennings', '1954 Greyhound Scenicruiser', 331),\n",
       " ('1401', 'Pamela', 'Castillo', '1992 Ferrari 360 Spider red', 272),\n",
       " ('1501', 'Larry', 'Bott', '1952 Citroen-15CV', 236),\n",
       " ('1504', 'Barry', 'Jones', '1960 BSA Gold Star DBD34', 220),\n",
       " ('1323', 'George', 'Vanauf', '2002 Yamaha YZR M1', 211),\n",
       " ('1611', 'Andy', 'Fixter', 'Boeing X-32A JSF', 185),\n",
       " ('1612', 'Peter', 'Marsh', '1997 BMW F650 ST', 185),\n",
       " ('1337', 'Loui', 'Bondur', '1960 BSA Gold Star DBD34', 177),\n",
       " ('1216', 'Steve', 'Patterson', 'ATA: B757-300', 152),\n",
       " ('1286', 'Foon Yue', 'Tseng', '2002 Yamaha YZR M1', 142),\n",
       " ('1621', 'Mami', 'Nishi', '1936 Mercedes Benz 500k Roadster', 137),\n",
       " ('1188', 'Julie', 'Firrelli', '1939 Chevrolet Deluxe Coupe', 124),\n",
       " ('1166', 'Leslie', 'Thompson', '1936 Chrysler Airflow', 114),\n",
       " ('1702', 'Martin', 'Gerard', '1936 Mercedes Benz 500k Roadster', 114)]"
      ]
     },
     "execution_count": 40,
     "metadata": {},
     "output_type": "execute_result"
    }
   ],
   "source": [
    "result(\"SELECT employeeNumber, firstName, lastName, productName, COUNT(productName) FROM employees JOIN customers ON employees.employeeNumber = customers.salesRepEmployeeNumber JOIN orders USING(customerNumber) JOIN orderdetails USING(orderNumber) JOIN products USING(productCode) GROUP BY employeeNumber ORDER BY COUNT(productName) DESC;\")"
   ]
  },
  {
   "cell_type": "markdown",
   "metadata": {},
   "source": [
    "## Summary"
   ]
  },
  {
   "cell_type": "markdown",
   "metadata": {},
   "source": [
    "Congrats! You now know how to use Join statements, along with leveraging your foreign keys knowledge!"
   ]
  }
 ],
 "metadata": {
  "kernelspec": {
   "display_name": "Python 3",
   "language": "python",
   "name": "python3"
  },
  "language_info": {
   "codemirror_mode": {
    "name": "ipython",
    "version": 3
   },
   "file_extension": ".py",
   "mimetype": "text/x-python",
   "name": "python",
   "nbconvert_exporter": "python",
   "pygments_lexer": "ipython3",
   "version": "3.6.6"
  }
 },
 "nbformat": 4,
 "nbformat_minor": 2
}
